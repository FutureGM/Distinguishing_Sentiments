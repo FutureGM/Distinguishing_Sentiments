{
 "cells": [
  {
   "cell_type": "markdown",
   "metadata": {},
   "source": [
    "# Assignment Objectives"
   ]
  },
  {
   "cell_type": "code",
   "execution_count": null,
   "metadata": {
    "collapsed": true
   },
   "outputs": [],
   "source": [
    "#Provide a visualized summary of the sentiments expressed in Tweets sent out by the following news organizations: \n",
    "#BBC, CBS, CNN, Fox, and New York times.\n",
    "\n",
    "#Import tweepy, pandas, matplotlib, seaborn, textblob, vader\n",
    "\n",
    "#First plot will:\n",
    "    #be a scatter plot of sentiments of last 100 tweets\n",
    "    #Ranging from -1.0 to 1.0\n",
    "    #Scores of 0 is neutral sentiment\n",
    "    # -1 most negative sentiment\n",
    "    # +1 most positive sentiment\n",
    "    #Each plot point will reflect the compound sentiment of a tweet\n",
    "    #Sort each plot by a relative timestamp\n",
    "\n",
    "#Second plot will:\n",
    "    #be a bar plot visualizing OVERALL sentiments of last 100 tweets per org.\n",
    "    # Aggregate using VADER\n",
    "\n",
    "#Final must:\n",
    "    # Pull last 100 tweets per outlet\n",
    "    #Perform sentiment analysis: Compound, Positive, Neutral, Negative score per tweet\n",
    "    #Pull into a DataFrame the tweet's source account, it's text, date, sentiment scores\n",
    "    #Export the data from DataFrame into a CSV File\n",
    "    #Save png images per plot\n",
    "\n",
    "#Final Considerations:\n",
    "    #Use Matplotlib & Seaborn libraries\n",
    "    #Include a description of 3 observable trends\n",
    "    #Proper labeling of plots (titles, with date of analysis) and axes lables\n",
    "    #Exported markdown version of notebook called README.md in GitHub"
   ]
  },
  {
   "cell_type": "markdown",
   "metadata": {},
   "source": [
    "# Observable Trends:\n",
    "### 1: The scatter plot, although shows frequency of posts, makes for difficult sentiment analysis.  From the \"Eye\" Test, it seems as though all news outlets are evenly distributed among the sentiment analysis, but upon examining the bar graphs, we clearly see, based on the mean, where each media outlet favors.\n",
    "### 2: The NYT where the only media group with a sentiment average of over 1 or positive on the sentiment scale.  Other outlets post positive tweets, but just from the \"Eye\" test, this shows the other major media outlets have scores favoring neutral to negative.\n",
    "### 3: After looking at the graphs, I examined the Twitter accounts for popularity.  I discovered the two most popular outlets (CNN and NYTimes) with over 40 million followers, are also the only new outlets that have a mean score of positive in the sentiment analysis.  The other three favor neutral or negative.  This raises multiple questions worth examining, such as are these two most popular because they are positive?  Are other political or news media outlets favoring positive sentiments or negative?  How many followers for the positive scoring media outlets also follow the negative scoring?  Again, the going by an \"Eye\" test allows for quick trend analysis and also invited deeper examintations."
   ]
  },
  {
   "cell_type": "markdown",
   "metadata": {},
   "source": [
    "# Dependencies/Api Retrieval"
   ]
  },
  {
   "cell_type": "code",
   "execution_count": 1,
   "metadata": {
    "collapsed": true
   },
   "outputs": [],
   "source": [
    "#Dependencies\n",
    "\n",
    "import pandas as pd\n",
    "import matplotlib.pyplot as plt\n",
    "import tweepy\n",
    "import json\n",
    "import numpy as np\n",
    "from pprint import pprint\n",
    "import datetime as dt\n",
    "from vaderSentiment.vaderSentiment import SentimentIntensityAnalyzer \n",
    "analyzer = SentimentIntensityAnalyzer()"
   ]
  },
  {
   "cell_type": "code",
   "execution_count": 2,
   "metadata": {
    "collapsed": true
   },
   "outputs": [],
   "source": [
    "# Twitter API Keys\n",
    "consumer_key = \"vbtDKBb6MLz1UDuXqjulinZWP\"\n",
    "consumer_secret = \"porfKt9UTtSp2XRYfqT7W5CaLAsgTFgXAgsjFYaAyxc42asmnw\"\n",
    "access_token = \"2503131714-U09cIrTKKguHgX4tLYxSIWFKqkpM3FCpko8huUm\"\n",
    "access_token_secret = \"QT9zEyQXvVzObM46BrIsx9kgqnwmZmhUjtNhafPU3iGcB\"\n",
    "\n",
    "# Setup Tweepy API Authentication\n",
    "auth = tweepy.OAuthHandler(consumer_key, consumer_secret)\n",
    "auth.set_access_token(access_token, access_token_secret)\n",
    "api = tweepy.API(auth, parser=tweepy.parsers.JSONParser())"
   ]
  },
  {
   "cell_type": "markdown",
   "metadata": {},
   "source": [
    "# Target User Skeleton"
   ]
  },
  {
   "cell_type": "code",
   "execution_count": 3,
   "metadata": {},
   "outputs": [
    {
     "name": "stdout",
     "output_type": "stream",
     "text": [
      "Sentiment Scores\n",
      "---------------------------\n",
      "User: @BBCWorld\n",
      "Compound Score: -0.064255\n",
      "Positive Score: 0.0541\n",
      "Neutral Score: 0.83125\n",
      "Negative Score: 0.1147\n",
      "---------------------------\n",
      "End of Scores\n",
      "---------------------------\n",
      "Sentiment Scores\n",
      "---------------------------\n",
      "User: @CBSNews\n",
      "Compound Score: -0.056725\n",
      "Positive Score: 0.0614\n",
      "Neutral Score: 0.8328\n",
      "Negative Score: 0.10585\n",
      "---------------------------\n",
      "End of Scores\n",
      "---------------------------\n",
      "Sentiment Scores\n",
      "---------------------------\n",
      "User: @CNN\n",
      "Compound Score: -0.02466\n",
      "Positive Score: 0.0607833333333\n",
      "Neutral Score: 0.8539\n",
      "Negative Score: 0.08535\n",
      "---------------------------\n",
      "End of Scores\n",
      "---------------------------\n",
      "Sentiment Scores\n",
      "---------------------------\n",
      "User: @FoxNews\n",
      "Compound Score: -0.021605\n",
      "Positive Score: 0.0516125\n",
      "Neutral Score: 0.8757125\n",
      "Negative Score: 0.0727\n",
      "---------------------------\n",
      "End of Scores\n",
      "---------------------------\n",
      "Sentiment Scores\n",
      "---------------------------\n",
      "User: @nytimes\n",
      "Compound Score: 0.006715\n",
      "Positive Score: 0.05593\n",
      "Neutral Score: 0.87902\n",
      "Negative Score: 0.06507\n",
      "---------------------------\n",
      "End of Scores\n",
      "---------------------------\n"
     ]
    }
   ],
   "source": [
    "#Target User Accounts\n",
    "user_list = (\"@BBCWorld\", \"@CBSNews\", \"@CNN\", \"@FoxNews\", \"@nytimes\")\n",
    "\n",
    "#Assign Variables to hold sentiments for analysis\n",
    "source_list = []\n",
    "compound_list = []\n",
    "positive_list = []\n",
    "negative_list = []\n",
    "neutral_list = []\n",
    "tweet_list = []\n",
    "dates_list = []\n",
    "sentiments_dict = []\n",
    "counter = 1\n",
    "\n",
    "#Create a loop through all parts of user_list\n",
    "for user in user_list:\n",
    "    #Create a loop that evaulates 100 tweets (5 pages)\n",
    "    for x in range(5):\n",
    "\n",
    "        #Get all tweets from their home feed\n",
    "        public_tweets = api.user_timeline(user)\n",
    "        \n",
    "        #Loop through all the tweets\n",
    "        for tweet in public_tweets:\n",
    "            #Use vader analysis for each tweet\n",
    "            compound = analyzer.polarity_scores(tweet[\"text\"])[\"compound\"]\n",
    "            pos = analyzer.polarity_scores(tweet[\"text\"])[\"pos\"]\n",
    "            neu = analyzer.polarity_scores(tweet[\"text\"])[\"neu\"]\n",
    "            neg = analyzer.polarity_scores(tweet[\"text\"])[\"neg\"]\n",
    "            twe = tweet[\"text\"]\n",
    "            dte = tweet[\"created_at\"]\n",
    "            tweets_ago = counter\n",
    "    #Add each sentiment value to the corresponding list:\n",
    "            source_list.append(user)\n",
    "            compound_list.append(compound)\n",
    "            positive_list.append(pos)\n",
    "            negative_list.append(neg)\n",
    "            neutral_list.append(neu)\n",
    "            tweet_list.append(twe)\n",
    "            dates_list.append(dte)\n",
    "            \n",
    "            \n",
    "            #Append vader sentiment dict\n",
    "            sentiments_dict.append({\"Account\": user,\n",
    "                          \"Created Date\": dte,\n",
    "                          #\"Date\": tweet[\"created_at\"], \n",
    "                          \"Compound\": compound,\n",
    "                          \"Positive\": pos,\n",
    "                          \"Negative\": neg,\n",
    "                          \"Neutral\": neu,\n",
    "                          \"Tweets Ago\": tweets_ago,\n",
    "                          \"Tweet Text\": twe})\n",
    "            #Insert coutmter\n",
    "            counter = counter + 1\n",
    "    #Add each sentiment value to the corresponding list:\n",
    "    # compound_list.append(compound)\n",
    "    # positive_list.append(pos)\n",
    "    # negative_list.append(neg)\n",
    "    # neutral_list.append(neu)\n",
    "    # tweet_list.append(twe)\n",
    "    # dates_list.append(dte)\n",
    "\n",
    "    #Print the averages\n",
    "    print(\"Sentiment Scores\")\n",
    "    print(\"---------------------------\")\n",
    "    # pprint(bbc_tweets)\n",
    "    print(\"User: %s\" % user)\n",
    "    print(\"Compound Score: %s\" % np.mean(compound_list))\n",
    "    print(\"Positive Score: %s\" % np.mean(positive_list))\n",
    "    print(\"Neutral Score: %s\" % np.mean(neutral_list))\n",
    "    print(\"Negative Score: %s\" % np.mean(negative_list))\n",
    "    print(\"---------------------------\")\n",
    "    print(\"End of Scores\")\n",
    "    print(\"---------------------------\")\n",
    "\n"
   ]
  },
  {
   "cell_type": "markdown",
   "metadata": {},
   "source": [
    "# Network Twitter Sentiments DataFrame"
   ]
  },
  {
   "cell_type": "code",
   "execution_count": 4,
   "metadata": {},
   "outputs": [],
   "source": [
    "user_df = pd.DataFrame(sentiments_dict)\n",
    "user_df.head()\n",
    "#Export to csv\n",
    "user_df.to_csv(\"Distinguishing_Sentiments.csv\")"
   ]
  },
  {
   "cell_type": "code",
   "execution_count": 19,
   "metadata": {
    "scrolled": false
   },
   "outputs": [
    {
     "name": "stdout",
     "output_type": "stream",
     "text": [
      "     Account  Compound                    Created Date  Negative  Neutral  \\\n",
      "0  @BBCWorld   -0.4939  Wed Apr 18 03:48:34 +0000 2018      0.39     0.61   \n",
      "1  @BBCWorld    0.0000  Wed Apr 18 03:25:32 +0000 2018      0.00     1.00   \n",
      "2  @BBCWorld   -0.5994  Wed Apr 18 02:39:42 +0000 2018      0.45     0.55   \n",
      "3  @BBCWorld    0.5719  Wed Apr 18 01:45:00 +0000 2018      0.00     0.73   \n",
      "4  @BBCWorld    0.0000  Wed Apr 18 01:38:00 +0000 2018      0.00     1.00   \n",
      "\n",
      "   Positive                                         Tweet Text  Tweets Ago  \n",
      "0      0.00  Malaria experts fear disease's resurgence http...           1  \n",
      "1      0.00  RT @samanthaTVnews: As #starbucks prepares to ...           2  \n",
      "2      0.00  Australian surf event cancelled after shark at...           3  \n",
      "3      0.27  RT @BBCNewsAsia: Jessie J has won China's vers...           4  \n",
      "4      0.00  CIA director Mike Pompeo travelled to Pyongyan...           5  \n",
      "--------------------------------------------------------------------------------\n",
      "      Account  Compound                    Created Date  Negative  Neutral  \\\n",
      "100  @CBSNews   -0.2732  Wed Apr 18 03:54:04 +0000 2018     0.130    0.870   \n",
      "101  @CBSNews   -0.1531  Wed Apr 18 03:48:04 +0000 2018     0.138    0.862   \n",
      "102  @CBSNews   -0.7430  Wed Apr 18 03:33:03 +0000 2018     0.344    0.656   \n",
      "103  @CBSNews    0.0000  Wed Apr 18 03:24:04 +0000 2018     0.000    1.000   \n",
      "104  @CBSNews    0.2732  Wed Apr 18 03:18:03 +0000 2018     0.000    0.870   \n",
      "\n",
      "     Positive                                         Tweet Text  Tweets Ago  \n",
      "100      0.00  Southwest Airlines Flight 1380 victim identifi...         101  \n",
      "101      0.00  Sandy Hook families file lawsuits against Info...         102  \n",
      "102      0.00  Starbucks in L.A. accused of racism after bath...         103  \n",
      "103      0.00  James Comey appears on \"The Late Show with Ste...         104  \n",
      "104      0.13  Meghan McCain says her father, John McCain, is...         105  \n",
      "--------------------------------------------------------------------------------\n",
      "    Account  Compound                    Created Date  Negative  Neutral  \\\n",
      "200    @CNN    0.0000  Wed Apr 18 03:47:26 +0000 2018     0.000    1.000   \n",
      "201    @CNN    0.0000  Wed Apr 18 03:46:04 +0000 2018     0.000    1.000   \n",
      "202    @CNN    0.0000  Wed Apr 18 03:31:05 +0000 2018     0.000    1.000   \n",
      "203    @CNN   -0.4404  Wed Apr 18 03:20:28 +0000 2018     0.132    0.868   \n",
      "204    @CNN    0.4215  Wed Apr 18 03:16:38 +0000 2018     0.000    0.882   \n",
      "\n",
      "     Positive                                         Tweet Text  Tweets Ago  \n",
      "200     0.000  RT @CNNTonight: Speaking with @DonLemon, Starb...         201  \n",
      "201     0.000  10 things to remember about Donald Trump's tax...         202  \n",
      "202     0.000  How Asia's airports are changing the way we tr...         203  \n",
      "203     0.000  RT @cnnbrk: A piece from the damaged Southwest...         204  \n",
      "204     0.118  First lady of the United States, mother to a U...         205  \n",
      "--------------------------------------------------------------------------------\n",
      "      Account  Compound                    Created Date  Negative  Neutral  \\\n",
      "300  @FoxNews    0.0000  Wed Apr 18 03:57:20 +0000 2018     0.000    1.000   \n",
      "301  @FoxNews   -0.5994  Wed Apr 18 03:51:36 +0000 2018     0.196    0.804   \n",
      "302  @FoxNews    0.0000  Wed Apr 18 03:42:16 +0000 2018     0.000    1.000   \n",
      "303  @FoxNews    0.0000  Wed Apr 18 03:37:00 +0000 2018     0.000    1.000   \n",
      "304  @FoxNews    0.0000  Wed Apr 18 03:33:46 +0000 2018     0.000    1.000   \n",
      "\n",
      "     Positive                                         Tweet Text  Tweets Ago  \n",
      "300       0.0  .@SenSchumer on the passing of Barbara Bush ht...         301  \n",
      "301       0.0  .@BillClinton reacted to the death of former F...         302  \n",
      "302       0.0  Flags fly at half-staff at the George Bush Pre...         303  \n",
      "303       0.0  .@NancyPelosi on the passing of Barbara Bush. ...         304  \n",
      "304       0.0  Moments ago, former First Lady @laurawbush wro...         305  \n",
      "--------------------------------------------------------------------------------\n",
      "      Account  Compound                    Created Date  Negative  Neutral  \\\n",
      "400  @nytimes   -0.7506  Wed Apr 18 03:47:01 +0000 2018     0.381    0.508   \n",
      "401  @nytimes    0.0000  Wed Apr 18 03:32:03 +0000 2018     0.000    1.000   \n",
      "402  @nytimes    0.0000  Wed Apr 18 03:17:04 +0000 2018     0.000    1.000   \n",
      "403  @nytimes    0.0000  Wed Apr 18 03:02:03 +0000 2018     0.000    1.000   \n",
      "404  @nytimes    0.5859  Wed Apr 18 02:51:03 +0000 2018     0.000    0.858   \n",
      "\n",
      "     Positive                                         Tweet Text  Tweets Ago  \n",
      "400     0.110  Legislator after legislator talked about a dir...         401  \n",
      "401     0.000  After crossing the finish line she asked offic...         402  \n",
      "402     0.000  RT @karenyourish: Connect the dots: the presid...         403  \n",
      "403     0.000  Starbucks will close more than 8,000 of its st...         404  \n",
      "404     0.142  RT @jakesNYT: NEW: The backstory on how the Wh...         405  \n",
      "--------------------------------------------------------------------------------\n"
     ]
    }
   ],
   "source": [
    "user_list = (\"@BBCWorld\", \"@CBSNews\", \"@CNN\", \"@FoxNews\", \"@nytimes\")\n",
    "#Separate each list item into a separate df\n",
    "\n",
    "#BBC\n",
    "bbc_df = user_df[user_df[\"Account\"] == \"@BBCWorld\"]\n",
    "#CBS\n",
    "cbs_df = user_df[user_df[\"Account\"] == \"@CBSNews\"]\n",
    "#CNN\n",
    "cnn_df = user_df[user_df[\"Account\"] == \"@CNN\"]\n",
    "#FOX\n",
    "fox_df = user_df[user_df[\"Account\"] == \"@FoxNews\"]\n",
    "#NYT\n",
    "nyt_df = user_df[user_df[\"Account\"] == \"@nytimes\"]\n",
    "#Print Statements of Media DF\n",
    "print(bbc_df.head())\n",
    "print(\"-\" * 80)\n",
    "print(cbs_df.head())\n",
    "print(\"-\" * 80)\n",
    "print(cnn_df.head())\n",
    "print(\"-\" * 80)\n",
    "print(fox_df.head())\n",
    "print(\"-\" * 80)\n",
    "print(nyt_df.head())\n",
    "print(\"-\" * 80)"
   ]
  },
  {
   "cell_type": "code",
   "execution_count": 6,
   "metadata": {},
   "outputs": [
    {
     "data": {
      "text/plain": [
       "'04/17/2018'"
      ]
     },
     "execution_count": 6,
     "metadata": {},
     "output_type": "execute_result"
    }
   ],
   "source": [
    "#Formatting Date\n",
    "dates = dt.date.today\n",
    "dates = dt.date.today().strftime(\"%m/%d/%Y\")\n",
    "dates"
   ]
  },
  {
   "cell_type": "markdown",
   "metadata": {},
   "source": [
    "# Scatter Plot Sentiment\n",
    "## Plot 1 Company at a Time (5 Plots) Before combining\n",
    "### Refer to Citipy Scatter plot"
   ]
  },
  {
   "cell_type": "code",
   "execution_count": 7,
   "metadata": {},
   "outputs": [
    {
     "data": {
      "image/png": "[encoded data removed]",
      "text/plain": [
       "<matplotlib.figure.Figure at 0x1198dd1bfd0>"
      ]
     },
     "metadata": {},
     "output_type": "display_data"
    }
   ],
   "source": [
    "#Bubble Plot\n",
    "plt.scatter(x=bbc_df[\"Tweets Ago\"],\n",
    "            y=bbc_df[\"Compound\"],\n",
    "            facecolors=\"red\",\n",
    "            edgecolor=\"black\", \n",
    "            linewidth=1, \n",
    "            marker='o',\n",
    "            alpha=0.8,\n",
    "            label=\"BBC\")\n",
    "\n",
    "plt.scatter(x=cbs_df[\"Tweets Ago\"],\n",
    "            y=cbs_df[\"Compound\"],\n",
    "            facecolors=\"orange\",\n",
    "            edgecolor=\"black\", \n",
    "            linewidth=1, \n",
    "            marker='o',\n",
    "            alpha=0.8,\n",
    "            label=\"CBS\")\n",
    "\n",
    "plt.scatter(x=cnn_df[\"Tweets Ago\"],\n",
    "            y=cnn_df[\"Compound\"], \n",
    "            facecolors=\"skyblue\",\n",
    "            edgecolor=\"black\", \n",
    "            linewidth=1, \n",
    "            marker='o',\n",
    "            alpha=0.8, \n",
    "            label=\"CNN\")\n",
    "\n",
    "plt.scatter(x=fox_df[\"Tweets Ago\"],\n",
    "            y=fox_df[\"Compound\"], \n",
    "            facecolors=\"gold\",\n",
    "            edgecolor=\"black\", \n",
    "            linewidth=1, \n",
    "            marker='o',\n",
    "            alpha=0.8,\n",
    "            label=\"FOX\")\n",
    "\n",
    "plt.scatter(x=nyt_df[\"Tweets Ago\"],\n",
    "            y=nyt_df[\"Compound\"],\n",
    "            facecolors=\"violet\",\n",
    "            edgecolor=\"black\", \n",
    "            linewidth=1, \n",
    "            marker='o',\n",
    "            alpha=0.8, \n",
    "            label=\"NYT\")\n",
    "\n",
    "#Scatter Properties\n",
    "plt.title(\"Sentiment Analysis (\"+ dates + \")\")\n",
    "plt.ylabel(\"Tweet Sentiment Polarity\")\n",
    "plt.xlabel(\"Tweets Ago\")\n",
    "#Create a Legend\n",
    "plt.legend((\"@BBCWorld\", \"@CBSNews\", \"@CNN\", \"@FoxNews\", \"@nytimes\"), \n",
    "           numpoints=1, loc=\"upper right\", ncol=1, fontsize=8,\n",
    "           title=\"Media Sources\", fancybox=True)\n",
    "#Have legend adjacent to plot\n",
    "legn = plt.legend((\"@BBCWorld\", \"@CBSNews\", \"@CNN\", \"@FoxNews\", \"@nytimes\"), \n",
    "                  bbox_to_anchor =(1,1), title=\"Media Sources\")\n",
    "\n",
    "plt.savefig(\"Distinguishing_Sentiment_scatter_plot.png\")\n",
    "plt.grid()\n",
    "plt.show()\n"
   ]
  },
  {
   "cell_type": "markdown",
   "metadata": {},
   "source": [
    "# Bar Graph of Overall Sentiments"
   ]
  },
  {
   "cell_type": "code",
   "execution_count": 8,
   "metadata": {},
   "outputs": [
    {
     "data": {
      "text/plain": [
       "Account\n",
       "@BBCWorld   -0.06\n",
       "@CBSNews    -0.05\n",
       "@CNN         0.04\n",
       "@FoxNews    -0.01\n",
       "@nytimes     0.12\n",
       "Name: Compound, dtype: float64"
      ]
     },
     "execution_count": 8,
     "metadata": {},
     "output_type": "execute_result"
    }
   ],
   "source": [
    "#Second plot will:\n",
    "    #be a bar plot visualizing OVERALL sentiments of last 100 tweets per org.\n",
    "    # Aggregate using VADER\n",
    "avg_score = round(user_df.groupby([\"Account\"]).mean()[\"Compound\"],2)\n",
    "avgSent_df = pd.DataFrame(avg_score)\n",
    "avg_score.head()"
   ]
  },
  {
   "cell_type": "code",
   "execution_count": 9,
   "metadata": {
    "collapsed": true
   },
   "outputs": [],
   "source": [
    "#Set value for x-axis and tick_locations\n",
    "x_axis = np.arange(len(avg_score))\n",
    "xlabels = avg_score.index\n",
    "# tick_locations = [value + 0.4 for value in x_axis]\n",
    "count=0\n",
    "#Loop for ploting average scores\n",
    "for sentiment in avg_score:\n",
    "    plt.text(count, compound + 0.1, str(round(compound,2)))\n",
    "    count = count + 1"
   ]
  },
  {
   "cell_type": "code",
   "execution_count": 10,
   "metadata": {},
   "outputs": [
    {
     "data": {
      "text/plain": [
       "<Container object of 5 artists>"
      ]
     },
     "execution_count": 10,
     "metadata": {},
     "output_type": "execute_result"
    }
   ],
   "source": [
    "#List where to write x labels and adjust figure size to fit\n",
    "plt.bar(x_axis, avg_score, tick_label = xlabels, color= [\"red\", \"orange\", \"skyblue\", \"gold\", \"violet\"], align=\"edge\")"
   ]
  },
  {
   "cell_type": "code",
   "execution_count": 11,
   "metadata": {},
   "outputs": [
    {
     "data": {
      "text/plain": [
       "(-0.25, 5)"
      ]
     },
     "execution_count": 11,
     "metadata": {},
     "output_type": "execute_result"
    }
   ],
   "source": [
    "#Set X and Y Limits:\n",
    "plt.xlim(-0.25, len(x_axis))"
   ]
  },
  {
   "cell_type": "code",
   "execution_count": 12,
   "metadata": {},
   "outputs": [
    {
     "data": {
      "text/plain": [
       "Text(0,0.5,'Sentiment Score')"
      ]
     },
     "execution_count": 12,
     "metadata": {},
     "output_type": "execute_result"
    }
   ],
   "source": [
    "#Set Title and Labels\n",
    "plt.title(\"Twitter Sentiment Analysis (\" + dates + \")\")\n",
    "plt.grid()\n",
    "plt.xlabel(\"Media Sources\")\n",
    "plt.ylabel(\"Sentiment Score\")"
   ]
  },
  {
   "cell_type": "code",
   "execution_count": 13,
   "metadata": {},
   "outputs": [
    {
     "data": {
      "image/png": "[encoded data removed]",
      "text/plain": [
       "<matplotlib.figure.Figure at 0x1198dcfdeb8>"
      ]
     },
     "metadata": {},
     "output_type": "display_data"
    }
   ],
   "source": [
    "#Save our graph and show\n",
    "plt.savefig(\"Sentiment_Bar_Scores.png\")\n",
    "plt.show()"
   ]
  },
  {
   "cell_type": "code",
   "execution_count": null,
   "metadata": {
    "collapsed": true
   },
   "outputs": [],
   "source": []
  },
  {
   "cell_type": "code",
   "execution_count": null,
   "metadata": {
    "collapsed": true
   },
   "outputs": [],
   "source": []
  }
 ],
 "metadata": {
  "kernelspec": {
   "display_name": "Python 3",
   "language": "python",
   "name": "python3"
  },
  "language_info": {
   "codemirror_mode": {
    "name": "ipython",
    "version": 3
   },
   "file_extension": ".py",
   "mimetype": "text/x-python",
   "name": "python",
   "nbconvert_exporter": "python",
   "pygments_lexer": "ipython3",
   "version": "3.6.3"
  }
 },
 "nbformat": 4,
 "nbformat_minor": 2
}
