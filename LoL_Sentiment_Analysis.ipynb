{
 "cells": [
  {
   "cell_type": "markdown",
   "metadata": {},
   "source": [
    "# Assignment Objectives"
   ]
  },
  {
   "cell_type": "code",
   "execution_count": null,
   "metadata": {
    "collapsed": true
   },
   "outputs": [],
   "source": [
    "#Provide a visualized summary of the sentiments expressed in Tweets sent out by the following LoL organizations: \n",
    "#CLG, Clutch Gaming, C9, Echo Fox, FlyQuest, Golden Guardians, Optic Gaming, Team Liquid, TSM, 100 Thieves.\n",
    "\n",
    "#Import tweepy, pandas, matplotlib, seaborn, textblob, vader\n",
    "\n",
    "#First plot will:\n",
    "    #be a scatter plot of sentiments of last 100 tweets\n",
    "    #Ranging from -1.0 to 1.0\n",
    "    #Scores of 0 is neutral sentiment\n",
    "    # -1 most negative sentiment\n",
    "    # +1 most positive sentiment\n",
    "    #Each plot point will reflect the compound sentiment of a tweet\n",
    "    #Sort each plot by a relative timestamp\n",
    "\n",
    "#Second plot will:\n",
    "    #be a bar plot visualizing OVERALL sentiments of last 100 tweets per org.\n",
    "    # Aggregate using VADER\n",
    "\n",
    "#Final must:\n",
    "    # Pull last 100 tweets per outlet\n",
    "    #Perform sentiment analysis: Compound, Positive, Neutral, Negative score per tweet\n",
    "    #Pull into a DataFrame the tweet's source account, it's text, date, sentiment scores\n",
    "    #Export the data from DataFrame into a CSV File\n",
    "    #Save png images per plot\n",
    "\n",
    "#Final Considerations:\n",
    "    #ADC Apollo was not retrievable for Sentiment Analysis\n",
    "    #Zig and LemonNation Removed from Team\n",
    "    #Use Matplotlib & Seaborn libraries\n",
    "    #Include a description of 3 observable trends\n",
    "    #Proper labeling of plots (titles, with date of analysis) and axes lables\n",
    "    #Exported markdown version of notebook called README.md in GitHub"
   ]
  },
  {
   "cell_type": "markdown",
   "metadata": {},
   "source": [
    "# Dependencies/Api Retrieval"
   ]
  },
  {
   "cell_type": "code",
   "execution_count": 3,
   "metadata": {
    "collapsed": true
   },
   "outputs": [],
   "source": [
    "#Dependencies\n",
    "\n",
    "import pandas as pd\n",
    "import matplotlib.pyplot as plt\n",
    "import tweepy\n",
    "import json\n",
    "import numpy as np\n",
    "from pprint import pprint\n",
    "import datetime as dt\n",
    "from vaderSentiment.vaderSentiment import SentimentIntensityAnalyzer \n",
    "analyzer = SentimentIntensityAnalyzer()"
   ]
  },
  {
   "cell_type": "code",
   "execution_count": 4,
   "metadata": {
    "collapsed": true
   },
   "outputs": [],
   "source": [
    "# Twitter API Keys\n",
    "consumer_key = \"vbtDKBb6MLz1UDuXqjulinZWP\"\n",
    "consumer_secret = \"porfKt9UTtSp2XRYfqT7W5CaLAsgTFgXAgsjFYaAyxc42asmnw\"\n",
    "access_token = \"2503131714-U09cIrTKKguHgX4tLYxSIWFKqkpM3FCpko8huUm\"\n",
    "access_token_secret = \"QT9zEyQXvVzObM46BrIsx9kgqnwmZmhUjtNhafPU3iGcB\"\n",
    "\n",
    "# Setup Tweepy API Authentication\n",
    "auth = tweepy.OAuthHandler(consumer_key, consumer_secret)\n",
    "auth.set_access_token(access_token, access_token_secret)\n",
    "api = tweepy.API(auth, parser=tweepy.parsers.JSONParser())"
   ]
  },
  {
   "cell_type": "markdown",
   "metadata": {},
   "source": [
    "# Target User Skeleton"
   ]
  },
  {
   "cell_type": "code",
   "execution_count": 193,
   "metadata": {},
   "outputs": [
    {
     "name": "stdout",
     "output_type": "stream",
     "text": [
      "Sentiment Scores\n",
      "---------------------------\n",
      "User: @DarshanU\n",
      "Compound Score: 0.228215\n",
      "Positive Score: 0.1833\n",
      "Neutral Score: 0.73675\n",
      "Negative Score: 0.08005\n",
      "---------------------------\n",
      "End of Scores\n",
      "---------------------------\n",
      "Sentiment Scores\n",
      "---------------------------\n",
      "User: @CLGReignover\n",
      "Compound Score: 0.2729975\n",
      "Positive Score: 0.229975\n",
      "Neutral Score: 0.709625\n",
      "Negative Score: 0.060475\n",
      "---------------------------\n",
      "End of Scores\n",
      "---------------------------\n",
      "Sentiment Scores\n",
      "---------------------------\n",
      "User: @Huhi\n",
      "Compound Score: 0.284098333333\n",
      "Positive Score: 0.213616666667\n",
      "Neutral Score: 0.70765\n",
      "Negative Score: 0.0621333333333\n",
      "---------------------------\n",
      "End of Scores\n",
      "---------------------------\n",
      "Sentiment Scores\n",
      "---------------------------\n",
      "User: @Stixxay\n",
      "Compound Score: 0.23498875\n",
      "Positive Score: 0.1982\n",
      "Neutral Score: 0.7231125\n",
      "Negative Score: 0.0662625\n",
      "---------------------------\n",
      "End of Scores\n",
      "---------------------------\n",
      "Sentiment Scores\n",
      "---------------------------\n",
      "User: @Biofrostlol\n",
      "Compound Score: 0.202269\n",
      "Positive Score: 0.1892\n",
      "Neutral Score: 0.72831\n",
      "Negative Score: 0.07254\n",
      "---------------------------\n",
      "End of Scores\n",
      "---------------------------\n"
     ]
    }
   ],
   "source": [
    "#Target User Accounts\n",
    "#CLG, Clutch Gaming, C9, Echo Fox, FlyQuest, Golden Guardians, Optic Gaming, Team Liquid, TSM, 100 Thieves.\n",
    "clg_list = (\"@DarshanU\", \"@CLGReignover\", \"@Huhi\", \"@Stixxay\", \"@Biofrostlol\")\n",
    "#Removed Apollo from Sentiment Analysis; page couldn't be found\n",
    "cg_list = (\"@CG_Solo\", \"@LirA_CG\", \"@CG_Febiven\", \"@CG_Apollo\", \"@CG_Hakuho\")\n",
    "c9_list = (\"@Licorice\", \"@C9Svenskeren\", \"@Jensen\", \"@Sneaky\", \"@Smoothie\")\n",
    "ef_list = (\"@Huni\", \"@Dardochlol\", \"@Midfenix\", \"@AltecLoL\", \"@AdrianMaLOL\")\n",
    "fq_list = (\"@FlameKR\", \"@AnDa0803\", \"@aroomanii\", \"@WildTurtle\", \"@stuntopolis\")\n",
    "gg_list = (\"@Lourlo\", \"@Contractz\", \"@Hai\", \"@deftlylol\", \"@GGS_Matt\")\n",
    "#Zig and LemonNation removed from team\n",
    "og_list = (\"@zigL0L\", \"@Akaadian\", \"@PowerOfEvilLoL\", \"@ArrowDongTak\", \"@LemonNation\")\n",
    "tl_list = (\"@Impact\", \"@Xmithie\", \"@Pobelter\", \"@TLDoublelift\", \"@TLOlleh\")\n",
    "tsm_list = (\"@lolHauntzer\", \"@TSMTheOddOne\", \"@Bjergsen\", \"@LoLZven\", \"@mithytsm\")\n",
    "oht_list = (\"@ssumday22\", \"@MeteosLoL\", \"@RyuL0L\", \"@Cody_Sun1\", \"@aphromoo\")\n",
    "#Assign Variables to hold sentiments for analysis\n",
    "source_list = []\n",
    "compound_list = []\n",
    "positive_list = []\n",
    "negative_list = []\n",
    "neutral_list = []\n",
    "tweet_list = []\n",
    "dates_list = []\n",
    "sentiments_dict = []\n",
    "counter = 1\n",
    "\n",
    "#Create a loop through all parts of user_list\n",
    "for user in clg_list:\n",
    "    #Create a loop that evaulates 100 tweets (5 pages)\n",
    "    for x in range(5):\n",
    "\n",
    "        #Get all tweets from their home feed\n",
    "        public_tweets = api.user_timeline(user)\n",
    "        \n",
    "        #Loop through all the tweets\n",
    "        for tweet in public_tweets:\n",
    "            #Use vader analysis for each tweet\n",
    "            compound = analyzer.polarity_scores(tweet[\"text\"])[\"compound\"]\n",
    "            pos = analyzer.polarity_scores(tweet[\"text\"])[\"pos\"]\n",
    "            neu = analyzer.polarity_scores(tweet[\"text\"])[\"neu\"]\n",
    "            neg = analyzer.polarity_scores(tweet[\"text\"])[\"neg\"]\n",
    "            twe = tweet[\"text\"]\n",
    "            dte = tweet[\"created_at\"]\n",
    "            tweets_ago = counter\n",
    "    #Add each sentiment value to the corresponding list:\n",
    "            source_list.append(user)\n",
    "            compound_list.append(compound)\n",
    "            positive_list.append(pos)\n",
    "            negative_list.append(neg)\n",
    "            neutral_list.append(neu)\n",
    "            tweet_list.append(twe)\n",
    "            dates_list.append(dte)\n",
    "            \n",
    "            \n",
    "            #Append vader sentiment dict\n",
    "            sentiments_dict.append({\"Account\": user,\n",
    "                          \"Created Date\": dte,\n",
    "                          #\"Date\": tweet[\"created_at\"], \n",
    "                          \"Compound\": compound,\n",
    "                          \"Positive\": pos,\n",
    "                          \"Negative\": neg,\n",
    "                          \"Neutral\": neu,\n",
    "                          \"Tweets Ago\": tweets_ago,\n",
    "                          \"Tweet Text\": twe})\n",
    "            #Insert coutmter\n",
    "            counter = counter + 1\n",
    "    #Add each sentiment value to the corresponding list:\n",
    "    # compound_list.append(compound)\n",
    "    # positive_list.append(pos)\n",
    "    # negative_list.append(neg)\n",
    "    # neutral_list.append(neu)\n",
    "    # tweet_list.append(twe)\n",
    "    # dates_list.append(dte)\n",
    "\n",
    "    #Print the averages\n",
    "    print(\"Sentiment Scores\")\n",
    "    print(\"---------------------------\")\n",
    "    # pprint(bbc_tweets)\n",
    "    print(\"User: %s\" % user)\n",
    "    print(\"Compound Score: %s\" % np.mean(compound_list))\n",
    "    print(\"Positive Score: %s\" % np.mean(positive_list))\n",
    "    print(\"Neutral Score: %s\" % np.mean(neutral_list))\n",
    "    print(\"Negative Score: %s\" % np.mean(negative_list))\n",
    "    print(\"---------------------------\")\n",
    "    print(\"End of Scores\")\n",
    "    print(\"---------------------------\")\n",
    "\n"
   ]
  },
  {
   "cell_type": "markdown",
   "metadata": {},
   "source": [
    "# Network Twitter Sentiments DataFrame"
   ]
  },
  {
   "cell_type": "code",
   "execution_count": 194,
   "metadata": {
    "collapsed": true
   },
   "outputs": [],
   "source": [
    "user_df = pd.DataFrame(sentiments_dict)\n",
    "user_df.head()\n",
    "#Export to csv\n",
    "user_df.to_csv(\"CLG_Sentiments.csv\")"
   ]
  },
  {
   "cell_type": "code",
   "execution_count": 195,
   "metadata": {
    "scrolled": false
   },
   "outputs": [
    {
     "name": "stdout",
     "output_type": "stream",
     "text": [
      "     Account  Compound                    Created Date  Negative  Neutral  \\\n",
      "0  @DarshanU    0.4753  Wed Apr 18 23:20:55 +0000 2018     0.000    0.660   \n",
      "1  @DarshanU    0.0000  Tue Apr 17 18:10:38 +0000 2018     0.000    1.000   \n",
      "2  @DarshanU    0.0000  Tue Apr 17 16:47:40 +0000 2018     0.000    1.000   \n",
      "3  @DarshanU    0.2006  Tue Apr 17 03:37:38 +0000 2018     0.081    0.807   \n",
      "4  @DarshanU   -0.6486  Tue Apr 10 21:11:32 +0000 2018     0.261    0.739   \n",
      "\n",
      "   Positive                                         Tweet Text  Tweets Ago  \n",
      "0     0.340           @betsuniipls @SFAT Nice to meet you man!           1  \n",
      "1     0.000  hitting the rift after a short vacay https://t...           2  \n",
      "2     0.000                                   @aphromoo 1v1 me           3  \n",
      "3     0.113  Irelia \"buffs\" on pbe look much more like a ne...           4  \n",
      "4     0.000  hey guys I missed ya https://t.co/8lgYwMtfyA i...           5  \n",
      "--------------------------------------------------------------------------------\n",
      "           Account  Compound                    Created Date  Negative  \\\n",
      "100  @CLGReignover    0.5255  Sat Mar 31 16:20:25 +0000 2018       0.0   \n",
      "101  @CLGReignover    0.0000  Fri Feb 16 18:12:37 +0000 2018       0.0   \n",
      "102  @CLGReignover    0.5473  Fri Feb 16 08:47:52 +0000 2018       0.0   \n",
      "103  @CLGReignover    0.0000  Fri Jan 19 23:20:42 +0000 2018       0.0   \n",
      "104  @CLGReignover    0.0000  Wed Jan 17 23:04:11 +0000 2018       0.0   \n",
      "\n",
      "     Neutral  Positive                                         Tweet Text  \\\n",
      "100    0.834     0.166  RT @clgaming: Proud to announce @OMENbyHP as t...   \n",
      "101    1.000     0.000  RT @clgaming: CLGFIGHTING | EP.02 is OUT!\\n\\nW...   \n",
      "102    0.221     0.779                        LOL https://t.co/hjWeTtqG12   \n",
      "103    1.000     0.000  RT @clgaming: We have something to prove this ...   \n",
      "104    1.000     0.000  RT @clgaming: New Age. New Merch.\\n\\nGear up w...   \n",
      "\n",
      "     Tweets Ago  \n",
      "100         101  \n",
      "101         102  \n",
      "102         103  \n",
      "103         104  \n",
      "104         105  \n",
      "--------------------------------------------------------------------------------\n",
      "    Account  Compound                    Created Date  Negative  Neutral  \\\n",
      "200   @Huhi    0.5696  Wed Apr 18 16:46:38 +0000 2018     0.000    0.779   \n",
      "201   @Huhi    0.4588  Thu Apr 12 01:10:44 +0000 2018     0.000    0.625   \n",
      "202   @Huhi   -0.4019  Sat Apr 07 07:58:10 +0000 2018     0.574    0.426   \n",
      "203   @Huhi   -0.2540  Thu Apr 05 03:53:59 +0000 2018     0.184    0.704   \n",
      "204   @Huhi    0.5423  Sun Apr 01 05:21:24 +0000 2018     0.000    0.703   \n",
      "\n",
      "     Positive                                         Tweet Text  Tweets Ago  \n",
      "200     0.221  Moving some stuffs to our new house! It will b...         201  \n",
      "201     0.375         Wink back to me :) https://t.co/8bBppndL0G         202  \n",
      "202     0.000            fault - Vinxen\\nhttps://t.co/Ubbkcq5nw6         203  \n",
      "203     0.113  RT @itswoori: LAST VLOG BEFORE I LEAVE!! \\n\\nE...         204  \n",
      "204     0.297  Just watched Ready Player 1. It was pretty coo...         205  \n",
      "--------------------------------------------------------------------------------\n",
      "      Account  Compound                    Created Date  Negative  Neutral  \\\n",
      "300  @Stixxay    0.0000  Wed Apr 18 21:29:53 +0000 2018     0.000    1.000   \n",
      "301  @Stixxay    0.0000  Sun Apr 15 04:00:35 +0000 2018     0.000    1.000   \n",
      "302  @Stixxay    0.6443  Sat Apr 14 19:55:32 +0000 2018     0.086    0.625   \n",
      "303  @Stixxay    0.5574  Sat Apr 14 19:50:10 +0000 2018     0.000    0.723   \n",
      "304  @Stixxay    0.6369  Fri Apr 13 19:14:47 +0000 2018     0.000    0.323   \n",
      "\n",
      "     Positive                                         Tweet Text  Tweets Ago  \n",
      "300     0.000  streaming for a little from new apartment 😛\\nh...         301  \n",
      "301     0.000  RT @Ayo_Dom: Birthday dinner for @Quorraa http...         302  \n",
      "302     0.290  @sn0wbirdtbh I debated it, my neck and back we...         303  \n",
      "303     0.277  Moving into my new apartment today &amp; tomor...         304  \n",
      "304     0.677                                 @TLOlleh best show         305  \n",
      "--------------------------------------------------------------------------------\n",
      "          Account  Compound                    Created Date  Negative  \\\n",
      "400  @Biofrostlol    0.0000  Wed Apr 18 22:14:03 +0000 2018     0.000   \n",
      "401  @Biofrostlol    0.5267  Wed Apr 18 00:05:13 +0000 2018     0.000   \n",
      "402  @Biofrostlol    0.0000  Sat Apr 14 23:44:29 +0000 2018     0.000   \n",
      "403  @Biofrostlol    0.3488  Sat Apr 14 20:01:00 +0000 2018     0.164   \n",
      "404  @Biofrostlol    0.2584  Sat Apr 14 01:34:32 +0000 2018     0.000   \n",
      "\n",
      "     Neutral  Positive                                         Tweet Text  \\\n",
      "400    1.000     0.000           @BoxBoxLoL Elastic girl from incredibles   \n",
      "401    0.595     0.405  RT @nuki_0204: The ideal boyfriend https://t.c...   \n",
      "402    1.000     0.000                  streaming https://t.co/AkE1Xjt8te   \n",
      "403    0.570     0.266    the new netflix series lost in space is so good   \n",
      "404    0.711     0.289                           this is art dont deny it   \n",
      "\n",
      "     Tweets Ago  \n",
      "400         401  \n",
      "401         402  \n",
      "402         403  \n",
      "403         404  \n",
      "404         405  \n",
      "--------------------------------------------------------------------------------\n"
     ]
    }
   ],
   "source": [
    "clg_list = (\"@DarshanU\", \"@CLGReignover\", \"@Huhi\", \"@Stixxay\", \"@Biofrostlol\")\n",
    "cg_list = (\"@CG_Solo\", \"@LirA_CG\", \"@CG_Febiven\", \"@CG_Apollo\", \"@CG_Hakuho\")\n",
    "c9_list = (\"@Licorice\", \"@C9Svenskeren\", \"@Jensen\", \"@Sneaky\", \"@Smoothie\")\n",
    "ef_list = (\"@Huni\", \"@Dardochlol\", \"@Midfenix\", \"@AltecLoL\", \"@AdrianMaLOL\")\n",
    "fq_list = (\"@FlameKR\", \"@AnDa0803\", \"@aroomanii\", \"@WildTurtle\", \"@stuntopolis\")\n",
    "gg_list = (\"@Lourlo\", \"@Contractz\", \"@Hai\", \"@deftlylol\", \"@GGS_Matt\")\n",
    "og_list = (\"@zigL0L\", \"@Akaadian\", \"@PowerOfEvilLoL\", \"@ArrowDongTak\", \"@LemonNation\")\n",
    "tl_list = (\"@Impact\", \"@Xmithie\", \"@Pobelter\", \"@TLDoublelift\", \"@TLOlleh\")\n",
    "tsm_list = (\"@lolHauntzer\", \"@TSMTheOddOne\", \"@Bjergsen\", \"@LoLZven\", \"@mithytsm\")\n",
    "oht_list = (\"@ssumday22\", \"@MeteosLoL\", \"@RyuL0L\", \"@Cody_Sun1\", \"@aphromoo\")\n",
    "#Separate each list item into a separate df\n",
    "\n",
    "#Top\n",
    "top_df = user_df[user_df[\"Account\"] == \"@DarshanU\"]\n",
    "#JGL\n",
    "jgl_df = user_df[user_df[\"Account\"] == \"@CLGReignover\"]\n",
    "#MID\n",
    "mid_df = user_df[user_df[\"Account\"] == \"@Huhi\"]\n",
    "#ADC\n",
    "adc_df = user_df[user_df[\"Account\"] == \"@Stixxay\"]\n",
    "#SUP\n",
    "sup_df = user_df[user_df[\"Account\"] == \"@Biofrostlol\"]\n",
    "#Print Statements of Media DF\n",
    "print(top_df.head())\n",
    "print(\"-\" * 80)\n",
    "print(jgl_df.head())\n",
    "print(\"-\" * 80)\n",
    "print(mid_df.head())\n",
    "print(\"-\" * 80)\n",
    "print(adc_df.head())\n",
    "print(\"-\" * 80)\n",
    "print(sup_df.head())\n",
    "print(\"-\" * 80)"
   ]
  },
  {
   "cell_type": "code",
   "execution_count": 196,
   "metadata": {},
   "outputs": [
    {
     "data": {
      "text/plain": [
       "'04/19/2018'"
      ]
     },
     "execution_count": 196,
     "metadata": {},
     "output_type": "execute_result"
    }
   ],
   "source": [
    "#Formatting Date\n",
    "dates = dt.date.today\n",
    "dates = dt.date.today().strftime(\"%m/%d/%Y\")\n",
    "dates"
   ]
  },
  {
   "cell_type": "markdown",
   "metadata": {},
   "source": [
    "# Scatter Plot Sentiment\n",
    "## Plot 1 Company at a Time (5 Plots) Before combining\n",
    "### Refer to Citipy Scatter plot"
   ]
  },
  {
   "cell_type": "code",
   "execution_count": 197,
   "metadata": {},
   "outputs": [
    {
     "data": {
      "image/png": "[encoded data removed]",
      "text/plain": [
       "<matplotlib.figure.Figure at 0x240ccba2940>"
      ]
     },
     "metadata": {},
     "output_type": "display_data"
    }
   ],
   "source": [
    "#Bubble Plot\n",
    "plt.scatter(x=top_df[\"Tweets Ago\"],\n",
    "            y=top_df[\"Compound\"],\n",
    "            facecolors=\"red\",\n",
    "            edgecolor=\"black\", \n",
    "            linewidth=1, \n",
    "            marker='o',\n",
    "            alpha=0.8,\n",
    "            label=\"Top\")\n",
    "\n",
    "plt.scatter(x=jgl_df[\"Tweets Ago\"],\n",
    "            y=jgl_df[\"Compound\"],\n",
    "            facecolors=\"orange\",\n",
    "            edgecolor=\"black\", \n",
    "            linewidth=1, \n",
    "            marker='o',\n",
    "            alpha=0.8,\n",
    "            label=\"Jgl\")\n",
    "\n",
    "plt.scatter(x=mid_df[\"Tweets Ago\"],\n",
    "            y=mid_df[\"Compound\"], \n",
    "            facecolors=\"skyblue\",\n",
    "            edgecolor=\"black\", \n",
    "            linewidth=1, \n",
    "            marker='o',\n",
    "            alpha=0.8, \n",
    "            label=\"Mid\")\n",
    "\n",
    "plt.scatter(x=adc_df[\"Tweets Ago\"],\n",
    "            y=adc_df[\"Compound\"], \n",
    "            facecolors=\"gold\",\n",
    "            edgecolor=\"black\", \n",
    "            linewidth=1, \n",
    "            marker='o',\n",
    "            alpha=0.8,\n",
    "            label=\"Adc\")\n",
    "\n",
    "plt.scatter(x=sup_df[\"Tweets Ago\"],\n",
    "            y=sup_df[\"Compound\"],\n",
    "            facecolors=\"violet\",\n",
    "            edgecolor=\"black\", \n",
    "            linewidth=1, \n",
    "            marker='o',\n",
    "            alpha=0.8, \n",
    "            label=\"Sup\")\n",
    "\n",
    "clg_list = (\"@DarshanU\", \"@CLGReignover\", \"@Huhi\", \"@Stixxay\", \"@Biofrostlol\")\n",
    "cg_list = (\"@CG_Solo\", \"@LirA_CG\", \"@CG_Febiven\", \"@CG_Apollo\", \"@CG_Hakuho\")\n",
    "c9_list = (\"@Licorice\", \"@C9Svenskeren\", \"@Jensen\", \"@Sneaky\", \"@Smoothie\")\n",
    "ef_list = (\"@Huni\", \"@Dardochlol\", \"@Midfenix\", \"@AltecLoL\", \"@AdrianMaLOL\")\n",
    "fq_list = (\"@FlameKR\", \"@AnDa0803\", \"@aroomanii\", \"@WildTurtle\", \"@stuntopolis\")\n",
    "gg_list = (\"@Lourlo\", \"@Contractz\", \"@Hai\", \"@deftlylol\", \"@GGS_Matt\")\n",
    "og_list = (\"@zigL0L\", \"@Akaadian\", \"@PowerOfEvilLoL\", \"@ArrowDongTak\", \"@LemonNation\")\n",
    "tl_list = (\"@Impact\", \"@Xmithie\", \"@Pobelter\", \"@TLDoublelift\", \"@TLOlleh\")\n",
    "tsm_list = (\"@lolHauntzer\", \"@TSMTheOddOne\", \"@Bjergsen\", \"@LoLZven\", \"@mithytsm\")\n",
    "oht_list = (\"@ssumday22\", \"@MeteosLoL\", \"@RyuL0L\", \"@Cody_Sun1\", \"@aphromoo\")\n",
    "#Scatter Properties\n",
    "plt.title(\"CLG Sentiment Analysis (\"+ dates + \")\")\n",
    "plt.ylabel(\"Tweet Sentiment Polarity\")\n",
    "plt.xlabel(\"Tweets Ago\")\n",
    "#Create a Legend\n",
    "\n",
    "plt.legend((\"@DarshanU\", \"@CLGReignover\", \"@Huhi\", \"@Stixxay\", \"@Biofrostlol\"), \n",
    "           numpoints=1, loc=\"upper right\", ncol=1, fontsize=8,\n",
    "           title=\"Roles\", fancybox=True)\n",
    "#Have legend adjacent to plot\n",
    "legn = plt.legend((\"@DarshanU\", \"@CLGReignover\", \"@Huhi\", \"@Stixxay\", \"@Biofrostlol\"), \n",
    "                  bbox_to_anchor =(1,1), title=\"Roles\")\n",
    "plt.savefig(\"CLG_scatter_plot.png\")\n",
    "plt.grid()\n",
    "plt.show()\n"
   ]
  },
  {
   "cell_type": "markdown",
   "metadata": {},
   "source": [
    "# Bar Graph of Overall Sentiments"
   ]
  },
  {
   "cell_type": "code",
   "execution_count": 198,
   "metadata": {},
   "outputs": [
    {
     "data": {
      "text/plain": [
       "Account\n",
       "@Biofrostlol     0.07\n",
       "@CLGReignover    0.32\n",
       "@DarshanU        0.23\n",
       "@Huhi            0.31\n",
       "@Stixxay         0.09\n",
       "Name: Compound, dtype: float64"
      ]
     },
     "execution_count": 198,
     "metadata": {},
     "output_type": "execute_result"
    }
   ],
   "source": [
    "#Second plot will:\n",
    "    #be a bar plot visualizing OVERALL sentiments of last 100 tweets per org.\n",
    "    # Aggregate using VADER\n",
    "avg_score = round(user_df.groupby([\"Account\"]).mean()[\"Compound\"],2)\n",
    "avgSent_df = pd.DataFrame(avg_score)\n",
    "avg_score.head()"
   ]
  },
  {
   "cell_type": "code",
   "execution_count": 199,
   "metadata": {
    "collapsed": true
   },
   "outputs": [],
   "source": [
    "#Set value for x-axis and tick_locations\n",
    "x_axis = np.arange(len(avg_score))\n",
    "xlabels = avg_score.index\n",
    "# tick_locations = [value + 0.4 for value in x_axis]\n",
    "count=0\n",
    "#Loop for ploting average scores\n",
    "for sentiment in avg_score:\n",
    "    plt.text(count, compound + 0.1, str(round(compound,2)))\n",
    "    count = count + 1"
   ]
  },
  {
   "cell_type": "code",
   "execution_count": 200,
   "metadata": {},
   "outputs": [
    {
     "data": {
      "text/plain": [
       "<Container object of 5 artists>"
      ]
     },
     "execution_count": 200,
     "metadata": {},
     "output_type": "execute_result"
    }
   ],
   "source": [
    "#List where to write x labels and adjust figure size to fit\n",
    "plt.bar(x_axis, avg_score, tick_label = xlabels, color= [\"red\", \"orange\", \"skyblue\", \"gold\", \"violet\"], align=\"edge\")"
   ]
  },
  {
   "cell_type": "code",
   "execution_count": 202,
   "metadata": {},
   "outputs": [
    {
     "data": {
      "text/plain": [
       "(-0.25, 5)"
      ]
     },
     "execution_count": 202,
     "metadata": {},
     "output_type": "execute_result"
    }
   ],
   "source": [
    "#Set X and Y Limits:\n",
    "plt.xlim(-0.25, len(x_axis))"
   ]
  },
  {
   "cell_type": "code",
   "execution_count": 203,
   "metadata": {},
   "outputs": [
    {
     "data": {
      "text/plain": [
       "Text(0,0.5,'Sentiment Score')"
      ]
     },
     "execution_count": 203,
     "metadata": {},
     "output_type": "execute_result"
    }
   ],
   "source": [
    "#Set Title and Labels\n",
    "plt.title(\"CLG Sentiment Analysis (\" + dates + \")\")\n",
    "plt.grid()\n",
    "plt.xlabel(\"Media Sources\")\n",
    "plt.ylabel(\"Sentiment Score\")"
   ]
  },
  {
   "cell_type": "code",
   "execution_count": 204,
   "metadata": {},
   "outputs": [
    {
     "data": {
      "image/png": "[encoded data removed]",
      "text/plain": [
       "<matplotlib.figure.Figure at 0x240cca1e240>"
      ]
     },
     "metadata": {},
     "output_type": "display_data"
    }
   ],
   "source": [
    "#Save our graph and show\n",
    "plt.savefig(\"CLG_Sentiment_Bar_Scores.png\")\n",
    "plt.show()"
   ]
  },
  {
   "cell_type": "code",
   "execution_count": null,
   "metadata": {
    "collapsed": true
   },
   "outputs": [],
   "source": []
  },
  {
   "cell_type": "code",
   "execution_count": null,
   "metadata": {
    "collapsed": true
   },
   "outputs": [],
   "source": []
  }
 ],
 "metadata": {
  "kernelspec": {
   "display_name": "Python 3",
   "language": "python",
   "name": "python3"
  },
  "language_info": {
   "codemirror_mode": {
    "name": "ipython",
    "version": 3
   },
   "file_extension": ".py",
   "mimetype": "text/x-python",
   "name": "python",
   "nbconvert_exporter": "python",
   "pygments_lexer": "ipython3",
   "version": "3.6.3"
  }
 },
 "nbformat": 4,
 "nbformat_minor": 2
}
