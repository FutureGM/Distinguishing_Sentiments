{
 "cells": [
  {
   "cell_type": "markdown",
   "metadata": {},
   "source": [
    "# Assignment Objectives"
   ]
  },
  {
   "cell_type": "code",
   "execution_count": 152,
   "metadata": {
    "collapsed": true
   },
   "outputs": [],
   "source": [
    "#Provide a visualized summary of the sentiments expressed in Tweets sent out by the following news organizations: \n",
    "#BBC, CBS, CNN, Fox, and New York times.\n",
    "\n",
    "#Import tweepy, pandas, matplotlib, seaborn, textblob, vader\n",
    "\n",
    "#First plot will:\n",
    "    #be a scatter plot of sentiments of last 100 tweets\n",
    "    #Ranging from -1.0 to 1.0\n",
    "    #Scores of 0 is neutral sentiment\n",
    "    # -1 most negative sentiment\n",
    "    # +1 most positive sentiment\n",
    "    #Each plot point will reflect the compound sentiment of a tweet\n",
    "    #Sort each plot by a relative timestamp\n",
    "\n",
    "#Second plot will:\n",
    "    #be a bar plot visualizing OVERALL sentiments of last 100 tweets per org.\n",
    "    # Aggregate using VADER\n",
    "\n",
    "#Final must:\n",
    "    # Pull last 100 tweets per outlet\n",
    "    #Perform sentiment analysis: Compound, Positive, Neutral, Negative score per tweet\n",
    "    #Pull into a DataFrame the tweet's source account, it's text, date, sentiment scores\n",
    "    #Export the data from DataFrame into a CSV File\n",
    "    #Save png images per plot\n",
    "\n",
    "#Final Considerations:\n",
    "    #Use Matplotlib & Seaborn libraries\n",
    "    #Include a description of 3 observable trends\n",
    "    #Proper labeling of plots (titles, with date of analysis) and axes lables\n",
    "    #Exported markdown version of notebook called README.md in GitHub"
   ]
  },
  {
   "cell_type": "markdown",
   "metadata": {},
   "source": [
    "# Observable Trends:\n",
    "### 1:\n",
    "### 2:\n",
    "### 3:"
   ]
  },
  {
   "cell_type": "markdown",
   "metadata": {},
   "source": [
    "# Dependencies/Api Retrieval"
   ]
  },
  {
   "cell_type": "code",
   "execution_count": 153,
   "metadata": {
    "collapsed": true
   },
   "outputs": [],
   "source": [
    "#Dependencies\n",
    "\n",
    "import pandas as pd\n",
    "import matplotlib.pyplot as plt\n",
    "import tweepy\n",
    "import json\n",
    "import numpy as np\n",
    "from pprint import pprint \n",
    "from vaderSentiment.vaderSentiment import SentimentIntensityAnalyzer \n",
    "analyzer = SentimentIntensityAnalyzer()"
   ]
  },
  {
   "cell_type": "code",
   "execution_count": 154,
   "metadata": {
    "collapsed": true
   },
   "outputs": [],
   "source": [
    "# Twitter API Keys\n",
    "consumer_key = \"vbtDKBb6MLz1UDuXqjulinZWP\"\n",
    "consumer_secret = \"porfKt9UTtSp2XRYfqT7W5CaLAsgTFgXAgsjFYaAyxc42asmnw\"\n",
    "access_token = \"2503131714-U09cIrTKKguHgX4tLYxSIWFKqkpM3FCpko8huUm\"\n",
    "access_token_secret = \"QT9zEyQXvVzObM46BrIsx9kgqnwmZmhUjtNhafPU3iGcB\"\n",
    "\n",
    "# Setup Tweepy API Authentication\n",
    "auth = tweepy.OAuthHandler(consumer_key, consumer_secret)\n",
    "auth.set_access_token(access_token, access_token_secret)\n",
    "api = tweepy.API(auth, parser=tweepy.parsers.JSONParser())"
   ]
  },
  {
   "cell_type": "markdown",
   "metadata": {},
   "source": [
    "# Target User Skeleton"
   ]
  },
  {
   "cell_type": "code",
   "execution_count": 155,
   "metadata": {},
   "outputs": [
    {
     "name": "stdout",
     "output_type": "stream",
     "text": [
      "BBC Sentiment Scores\n",
      "---------------------------\n",
      "Compound Score: -0.6486\n",
      "Positive Score: 0.0\n",
      "Neutral Score: 0.739\n",
      "Negative Score: 0.261\n",
      "---------------------------\n",
      "End of BBC Scores\n",
      "---------------------------\n",
      "CBS Sentiment Scores\n",
      "---------------------------\n",
      "Compound Score: 0.7351\n",
      "Positive Score: 0.22\n",
      "Neutral Score: 0.78\n",
      "Negative Score: 0.0\n",
      "---------------------------\n",
      "End of CBS Scores\n",
      "---------------------------\n",
      "CNN Sentiment Scores\n",
      "---------------------------\n",
      "Compound Score: 0.0\n",
      "Positive Score: 0.0\n",
      "Neutral Score: 1.0\n",
      "Negative Score: 0.0\n",
      "---------------------------\n",
      "End of CNN Scores\n",
      "---------------------------\n",
      "FOX Sentiment Scores\n",
      "---------------------------\n",
      "Compound Score: -0.4767\n",
      "Positive Score: 0.0\n",
      "Neutral Score: 0.744\n",
      "Negative Score: 0.256\n",
      "---------------------------\n",
      "End of FOX Scores\n",
      "---------------------------\n",
      "NYT Sentiment Scores\n",
      "---------------------------\n",
      "Compound Score: 0.3182\n",
      "Positive Score: 0.216\n",
      "Neutral Score: 0.643\n",
      "Negative Score: 0.14\n",
      "---------------------------\n",
      "End of NYT Scores\n",
      "---------------------------\n"
     ]
    }
   ],
   "source": [
    "#Target User Accounts\n",
    "bbc_user = \"@BBCWorld\"\n",
    "cbs_user = \"@CBSNews\"\n",
    "cnn_user = \"@CNN\"\n",
    "fox_user = \"@FoxNews\"\n",
    "nyt_user = \"@nytimes\"\n",
    "\n",
    "#Assign Variables to hold sentiments for analysis\n",
    "compound_list = []\n",
    "positive_list = []\n",
    "negative_list = []\n",
    "neutral_list = []\n",
    "tweet_list = []\n",
    "dates_list = []\n",
    "\n",
    "compound_list2 = []\n",
    "positive_list2 = []\n",
    "negative_list2 = []\n",
    "neutral_list2 = []\n",
    "tweet_list2 = []\n",
    "dates_list2 = []\n",
    "\n",
    "compound_list3 = []\n",
    "positive_list3 = []\n",
    "negative_list3 = []\n",
    "neutral_list3 = []\n",
    "tweet_list3 = []\n",
    "dates_list3 = []\n",
    "\n",
    "compound_list4 = []\n",
    "positive_list4 = []\n",
    "negative_list4 = []\n",
    "neutral_list4 = []\n",
    "tweet_list4 = []\n",
    "dates_list4 = []\n",
    "\n",
    "compound_list5 = []\n",
    "positive_list5 = []\n",
    "negative_list5 = []\n",
    "neutral_list5 = []\n",
    "tweet_list5 = []\n",
    "dates_list5 = []\n",
    "\n",
    "#Create a loop that evaulates 100 tweets (5 pages)\n",
    "for x in range(5):\n",
    "    \n",
    "    #Get all tweets from their home feed\n",
    "    bbc_tweets = api.user_timeline(bbc_user)\n",
    "    cbs_tweets = api.user_timeline(cbs_user)\n",
    "    cnn_tweets = api.user_timeline(cnn_user)\n",
    "    fox_tweets = api.user_timeline(fox_user)\n",
    "    nyt_tweets = api.user_timeline(nyt_user)\n",
    "    \n",
    "    #Loop through all the tweets\n",
    "    for tweet in bbc_tweets:\n",
    "        \n",
    "        #Run Vader Analysis on each tweet\n",
    "        compound = analyzer.polarity_scores(tweet[\"text\"])[\"compound\"]\n",
    "        pos = analyzer.polarity_scores(tweet[\"text\"])[\"pos\"]\n",
    "        neu = analyzer.polarity_scores(tweet[\"text\"])[\"neu\"]\n",
    "        neg = analyzer.polarity_scores(tweet[\"text\"])[\"neg\"]\n",
    "        twe = tweet[\"text\"]\n",
    "        dte = tweet[\"created_at\"]\n",
    "    \n",
    "    for tweet2 in cbs_tweets:\n",
    "        \n",
    "         #Run Vader Analysis on each tweet\n",
    "        compound2 = analyzer.polarity_scores(tweet2[\"text\"])[\"compound\"]\n",
    "        pos2 = analyzer.polarity_scores(tweet2[\"text\"])[\"pos\"]\n",
    "        neu2 = analyzer.polarity_scores(tweet2[\"text\"])[\"neu\"]\n",
    "        neg2 = analyzer.polarity_scores(tweet2[\"text\"])[\"neg\"]\n",
    "        twe2 = tweet2[\"text\"]\n",
    "        dte2 = tweet2[\"created_at\"]\n",
    "        \n",
    "    for tweet3 in cnn_tweets:\n",
    "        \n",
    "        #Run Vader Analysis on each tweet\n",
    "        compound3 = analyzer.polarity_scores(tweet3[\"text\"])[\"compound\"]\n",
    "        pos3 = analyzer.polarity_scores(tweet3[\"text\"])[\"pos\"]\n",
    "        neu3 = analyzer.polarity_scores(tweet3[\"text\"])[\"neu\"]\n",
    "        neg3 = analyzer.polarity_scores(tweet3[\"text\"])[\"neg\"]\n",
    "        twe3 = tweet3[\"text\"]\n",
    "        dte3 = tweet3[\"created_at\"]\n",
    "        \n",
    "    for tweet4 in fox_tweets:\n",
    "        \n",
    "         #Run Vader Analysis on each tweet\n",
    "        compound4 = analyzer.polarity_scores(tweet4[\"text\"])[\"compound\"]\n",
    "        pos4 = analyzer.polarity_scores(tweet4[\"text\"])[\"pos\"]\n",
    "        neu4 = analyzer.polarity_scores(tweet4[\"text\"])[\"neu\"]\n",
    "        neg4 = analyzer.polarity_scores(tweet4[\"text\"])[\"neg\"]\n",
    "        twe4 = tweet4[\"text\"]\n",
    "        dte4 = tweet4[\"created_at\"]\n",
    "    \n",
    "    for tweet5 in nyt_tweets:\n",
    "        \n",
    "         #Run Vader Analysis on each tweet\n",
    "        compound5 = analyzer.polarity_scores(tweet5[\"text\"])[\"compound\"]\n",
    "        pos5 = analyzer.polarity_scores(tweet5[\"text\"])[\"pos\"]\n",
    "        neu5 = analyzer.polarity_scores(tweet5[\"text\"])[\"neu\"]\n",
    "        neg5 = analyzer.polarity_scores(tweet5[\"text\"])[\"neg\"]\n",
    "        twe5 = tweet5[\"text\"]\n",
    "        dte5 = tweet5[\"created_at\"]\n",
    "        \n",
    "#Add each sentiment value to the corresponding list:\n",
    "compound_list.append(compound)\n",
    "positive_list.append(pos)\n",
    "negative_list.append(neg)\n",
    "neutral_list.append(neu)\n",
    "tweet_list.append(len(twe))\n",
    "dates_list.append(dte)\n",
    "\n",
    "compound_list2.append(compound2)\n",
    "positive_list2.append(pos2)\n",
    "negative_list2.append(neg2)\n",
    "neutral_list2.append(neu2)\n",
    "tweet_list2.append(len(twe2))\n",
    "dates_list2.append(dte2)\n",
    "\n",
    "compound_list3.append(compound3)\n",
    "positive_list3.append(pos3)\n",
    "negative_list3.append(neg3)\n",
    "neutral_list3.append(neu3)\n",
    "tweet_list3.append(len(twe3))\n",
    "dates_list3.append(dte3)\n",
    "\n",
    "compound_list4.append(compound4)\n",
    "positive_list4.append(pos4)\n",
    "negative_list4.append(neg4)\n",
    "neutral_list4.append(neu4)\n",
    "tweet_list4.append(len(twe4))\n",
    "dates_list4.append(dte4)\n",
    "\n",
    "compound_list5.append(compound5)\n",
    "positive_list5.append(pos5)\n",
    "negative_list5.append(neg5)\n",
    "neutral_list5.append(neu5)\n",
    "tweet_list5.append(len(twe5))\n",
    "dates_list5.append(dte5)\n",
    "\n",
    "#Print the averages\n",
    "print(\"BBC Sentiment Scores\")\n",
    "print(\"---------------------------\")\n",
    "# pprint(bbc_tweets)\n",
    "print(\"Compound Score: %s\" % compound)\n",
    "print(\"Positive Score: %s\" % pos)\n",
    "print(\"Neutral Score: %s\" % neu)\n",
    "print(\"Negative Score: %s\" % neg)\n",
    "print(\"---------------------------\")\n",
    "print(\"End of BBC Scores\")\n",
    "print(\"---------------------------\")\n",
    "\n",
    "#Print the averages\n",
    "print(\"CBS Sentiment Scores\")\n",
    "print(\"---------------------------\")\n",
    "# pprint(cbs_tweets)\n",
    "print(\"Compound Score: %s\" % compound2)\n",
    "print(\"Positive Score: %s\" % pos2)\n",
    "print(\"Neutral Score: %s\" % neu2)\n",
    "print(\"Negative Score: %s\" % neg2)\n",
    "print(\"---------------------------\")\n",
    "print(\"End of CBS Scores\")\n",
    "print(\"---------------------------\")\n",
    "\n",
    "#Print the averages\n",
    "print(\"CNN Sentiment Scores\")\n",
    "print(\"---------------------------\")\n",
    "# pprint(cnn_tweets)\n",
    "print(\"Compound Score: %s\" % compound3)\n",
    "print(\"Positive Score: %s\" % pos3)\n",
    "print(\"Neutral Score: %s\" % neu3)\n",
    "print(\"Negative Score: %s\" % neg3)\n",
    "print(\"---------------------------\")\n",
    "print(\"End of CNN Scores\")\n",
    "print(\"---------------------------\")\n",
    "\n",
    "#Print the averages\n",
    "print(\"FOX Sentiment Scores\")\n",
    "print(\"---------------------------\")\n",
    "# pprint(fox_tweets)\n",
    "print(\"Compound Score: %s\" % compound4)\n",
    "print(\"Positive Score: %s\" % pos4)\n",
    "print(\"Neutral Score: %s\" % neu4)\n",
    "print(\"Negative Score: %s\" % neg4)\n",
    "print(\"---------------------------\")\n",
    "print(\"End of FOX Scores\")\n",
    "print(\"---------------------------\")\n",
    "\n",
    "#Print the averages\n",
    "print(\"NYT Sentiment Scores\")\n",
    "print(\"---------------------------\")\n",
    "# pprint(nyt_tweets)\n",
    "print(\"Compound Score: %s\" % compound5)\n",
    "print(\"Positive Score: %s\" % pos5)\n",
    "print(\"Neutral Score: %s\" % neu5)\n",
    "print(\"Negative Score: %s\" % neg5)\n",
    "print(\"---------------------------\")\n",
    "print(\"End of NYT Scores\")\n",
    "print(\"---------------------------\")"
   ]
  },
  {
   "cell_type": "markdown",
   "metadata": {},
   "source": [
    "# Network Twitter Sentiments DataFrame"
   ]
  },
  {
   "cell_type": "code",
   "execution_count": 156,
   "metadata": {},
   "outputs": [
    {
     "name": "stdout",
     "output_type": "stream",
     "text": [
      "BBC DataFrame\n"
     ]
    },
    {
     "data": {
      "text/html": [
       "<div>\n",
       "<style>\n",
       "    .dataframe thead tr:only-child th {\n",
       "        text-align: right;\n",
       "    }\n",
       "\n",
       "    .dataframe thead th {\n",
       "        text-align: left;\n",
       "    }\n",
       "\n",
       "    .dataframe tbody tr th {\n",
       "        vertical-align: top;\n",
       "    }\n",
       "</style>\n",
       "<table border=\"1\" class=\"dataframe\">\n",
       "  <thead>\n",
       "    <tr style=\"text-align: right;\">\n",
       "      <th></th>\n",
       "      <th>Compound</th>\n",
       "      <th>Date of Tweet</th>\n",
       "      <th>Negative</th>\n",
       "      <th>Neutral</th>\n",
       "      <th>Positive</th>\n",
       "      <th>Tweets</th>\n",
       "    </tr>\n",
       "  </thead>\n",
       "  <tbody>\n",
       "    <tr>\n",
       "      <th>0</th>\n",
       "      <td>-0.6486</td>\n",
       "      <td>Wed Mar 21 18:46:52 +0000 2018</td>\n",
       "      <td>0.261</td>\n",
       "      <td>0.739</td>\n",
       "      <td>0.0</td>\n",
       "      <td>140</td>\n",
       "    </tr>\n",
       "  </tbody>\n",
       "</table>\n",
       "</div>"
      ],
      "text/plain": [
       "   Compound                   Date of Tweet  Negative  Neutral  Positive  \\\n",
       "0   -0.6486  Wed Mar 21 18:46:52 +0000 2018     0.261    0.739       0.0   \n",
       "\n",
       "   Tweets  \n",
       "0     140  "
      ]
     },
     "execution_count": 156,
     "metadata": {},
     "output_type": "execute_result"
    }
   ],
   "source": [
    "bbcSentiments_DF = pd.DataFrame({\"Compound\": compound_list,\n",
    "                            \"Positive\": positive_list,\n",
    "                            \"Neutral\": neutral_list,\n",
    "                            \"Negative\": negative_list,\n",
    "                            \"Tweets\": tweet_list,\n",
    "                            \"Date of Tweet\": dates_list})\n",
    "print(\"BBC DataFrame\")\n",
    "bbc = bbcSentiments_DF\n",
    "bbc"
   ]
  },
  {
   "cell_type": "code",
   "execution_count": 157,
   "metadata": {},
   "outputs": [
    {
     "name": "stdout",
     "output_type": "stream",
     "text": [
      "CBS DataFrame\n"
     ]
    },
    {
     "data": {
      "text/html": [
       "<div>\n",
       "<style>\n",
       "    .dataframe thead tr:only-child th {\n",
       "        text-align: right;\n",
       "    }\n",
       "\n",
       "    .dataframe thead th {\n",
       "        text-align: left;\n",
       "    }\n",
       "\n",
       "    .dataframe tbody tr th {\n",
       "        vertical-align: top;\n",
       "    }\n",
       "</style>\n",
       "<table border=\"1\" class=\"dataframe\">\n",
       "  <thead>\n",
       "    <tr style=\"text-align: right;\">\n",
       "      <th></th>\n",
       "      <th>Compound</th>\n",
       "      <th>Date of Tweet</th>\n",
       "      <th>Negative</th>\n",
       "      <th>Neutral</th>\n",
       "      <th>Positive</th>\n",
       "      <th>Tweets</th>\n",
       "    </tr>\n",
       "  </thead>\n",
       "  <tbody>\n",
       "    <tr>\n",
       "      <th>0</th>\n",
       "      <td>0.7351</td>\n",
       "      <td>Wed Mar 21 23:23:11 +0000 2018</td>\n",
       "      <td>0.0</td>\n",
       "      <td>0.78</td>\n",
       "      <td>0.22</td>\n",
       "      <td>140</td>\n",
       "    </tr>\n",
       "  </tbody>\n",
       "</table>\n",
       "</div>"
      ],
      "text/plain": [
       "   Compound                   Date of Tweet  Negative  Neutral  Positive  \\\n",
       "0    0.7351  Wed Mar 21 23:23:11 +0000 2018       0.0     0.78      0.22   \n",
       "\n",
       "   Tweets  \n",
       "0     140  "
      ]
     },
     "execution_count": 157,
     "metadata": {},
     "output_type": "execute_result"
    }
   ],
   "source": [
    "cbsSentiments_DF = pd.DataFrame({\"Compound\": compound_list2,\n",
    "                            \"Positive\": positive_list2,\n",
    "                            \"Neutral\": neutral_list2,\n",
    "                            \"Negative\": negative_list2,\n",
    "                            \"Tweets\": tweet_list2,\n",
    "                            \"Date of Tweet\": dates_list2})\n",
    "print(\"CBS DataFrame\")\n",
    "cbs = cbsSentiments_DF\n",
    "cbs"
   ]
  },
  {
   "cell_type": "code",
   "execution_count": 158,
   "metadata": {},
   "outputs": [
    {
     "name": "stdout",
     "output_type": "stream",
     "text": [
      "CNN DataFrame\n"
     ]
    },
    {
     "data": {
      "text/html": [
       "<div>\n",
       "<style>\n",
       "    .dataframe thead tr:only-child th {\n",
       "        text-align: right;\n",
       "    }\n",
       "\n",
       "    .dataframe thead th {\n",
       "        text-align: left;\n",
       "    }\n",
       "\n",
       "    .dataframe tbody tr th {\n",
       "        vertical-align: top;\n",
       "    }\n",
       "</style>\n",
       "<table border=\"1\" class=\"dataframe\">\n",
       "  <thead>\n",
       "    <tr style=\"text-align: right;\">\n",
       "      <th></th>\n",
       "      <th>Compound</th>\n",
       "      <th>Date of Tweet</th>\n",
       "      <th>Negative</th>\n",
       "      <th>Neutral</th>\n",
       "      <th>Positive</th>\n",
       "      <th>Tweets</th>\n",
       "    </tr>\n",
       "  </thead>\n",
       "  <tbody>\n",
       "    <tr>\n",
       "      <th>0</th>\n",
       "      <td>0.0</td>\n",
       "      <td>Thu Mar 22 00:43:32 +0000 2018</td>\n",
       "      <td>0.0</td>\n",
       "      <td>1.0</td>\n",
       "      <td>0.0</td>\n",
       "      <td>89</td>\n",
       "    </tr>\n",
       "  </tbody>\n",
       "</table>\n",
       "</div>"
      ],
      "text/plain": [
       "   Compound                   Date of Tweet  Negative  Neutral  Positive  \\\n",
       "0       0.0  Thu Mar 22 00:43:32 +0000 2018       0.0      1.0       0.0   \n",
       "\n",
       "   Tweets  \n",
       "0      89  "
      ]
     },
     "execution_count": 158,
     "metadata": {},
     "output_type": "execute_result"
    }
   ],
   "source": [
    "cnnSentiments_DF = pd.DataFrame({\"Compound\": compound_list3,\n",
    "                            \"Positive\": positive_list3,\n",
    "                            \"Neutral\": neutral_list3,\n",
    "                            \"Negative\": negative_list3,\n",
    "                            \"Tweets\": tweet_list3,\n",
    "                            \"Date of Tweet\": dates_list3})\n",
    "print(\"CNN DataFrame\")\n",
    "cnn = cnnSentiments_DF\n",
    "cnn"
   ]
  },
  {
   "cell_type": "code",
   "execution_count": 159,
   "metadata": {},
   "outputs": [
    {
     "name": "stdout",
     "output_type": "stream",
     "text": [
      "Fox DataFrame\n"
     ]
    },
    {
     "data": {
      "text/html": [
       "<div>\n",
       "<style>\n",
       "    .dataframe thead tr:only-child th {\n",
       "        text-align: right;\n",
       "    }\n",
       "\n",
       "    .dataframe thead th {\n",
       "        text-align: left;\n",
       "    }\n",
       "\n",
       "    .dataframe tbody tr th {\n",
       "        vertical-align: top;\n",
       "    }\n",
       "</style>\n",
       "<table border=\"1\" class=\"dataframe\">\n",
       "  <thead>\n",
       "    <tr style=\"text-align: right;\">\n",
       "      <th></th>\n",
       "      <th>Compound</th>\n",
       "      <th>Date of Tweet</th>\n",
       "      <th>Negative</th>\n",
       "      <th>Neutral</th>\n",
       "      <th>Positive</th>\n",
       "      <th>Tweets</th>\n",
       "    </tr>\n",
       "  </thead>\n",
       "  <tbody>\n",
       "    <tr>\n",
       "      <th>0</th>\n",
       "      <td>-0.4767</td>\n",
       "      <td>Thu Mar 22 00:50:20 +0000 2018</td>\n",
       "      <td>0.256</td>\n",
       "      <td>0.744</td>\n",
       "      <td>0.0</td>\n",
       "      <td>90</td>\n",
       "    </tr>\n",
       "  </tbody>\n",
       "</table>\n",
       "</div>"
      ],
      "text/plain": [
       "   Compound                   Date of Tweet  Negative  Neutral  Positive  \\\n",
       "0   -0.4767  Thu Mar 22 00:50:20 +0000 2018     0.256    0.744       0.0   \n",
       "\n",
       "   Tweets  \n",
       "0      90  "
      ]
     },
     "execution_count": 159,
     "metadata": {},
     "output_type": "execute_result"
    }
   ],
   "source": [
    "foxSentiments_DF = pd.DataFrame({\"Compound\": compound_list4,\n",
    "                            \"Positive\": positive_list4,\n",
    "                            \"Neutral\": neutral_list4,\n",
    "                            \"Negative\": negative_list4,\n",
    "                            \"Tweets\": tweet_list4,\n",
    "                            \"Date of Tweet\": dates_list4})\n",
    "\n",
    "print(\"Fox DataFrame\")\n",
    "fox = foxSentiments_DF\n",
    "fox"
   ]
  },
  {
   "cell_type": "code",
   "execution_count": 160,
   "metadata": {},
   "outputs": [
    {
     "name": "stdout",
     "output_type": "stream",
     "text": [
      "NYT DataFrame\n"
     ]
    },
    {
     "data": {
      "text/html": [
       "<div>\n",
       "<style>\n",
       "    .dataframe thead tr:only-child th {\n",
       "        text-align: right;\n",
       "    }\n",
       "\n",
       "    .dataframe thead th {\n",
       "        text-align: left;\n",
       "    }\n",
       "\n",
       "    .dataframe tbody tr th {\n",
       "        vertical-align: top;\n",
       "    }\n",
       "</style>\n",
       "<table border=\"1\" class=\"dataframe\">\n",
       "  <thead>\n",
       "    <tr style=\"text-align: right;\">\n",
       "      <th></th>\n",
       "      <th>Compound</th>\n",
       "      <th>Date of Tweet</th>\n",
       "      <th>Negative</th>\n",
       "      <th>Neutral</th>\n",
       "      <th>Positive</th>\n",
       "      <th>Tweets</th>\n",
       "    </tr>\n",
       "  </thead>\n",
       "  <tbody>\n",
       "    <tr>\n",
       "      <th>0</th>\n",
       "      <td>0.3182</td>\n",
       "      <td>Wed Mar 21 22:17:01 +0000 2018</td>\n",
       "      <td>0.14</td>\n",
       "      <td>0.643</td>\n",
       "      <td>0.216</td>\n",
       "      <td>112</td>\n",
       "    </tr>\n",
       "  </tbody>\n",
       "</table>\n",
       "</div>"
      ],
      "text/plain": [
       "   Compound                   Date of Tweet  Negative  Neutral  Positive  \\\n",
       "0    0.3182  Wed Mar 21 22:17:01 +0000 2018      0.14    0.643     0.216   \n",
       "\n",
       "   Tweets  \n",
       "0     112  "
      ]
     },
     "execution_count": 160,
     "metadata": {},
     "output_type": "execute_result"
    }
   ],
   "source": [
    "nytSentiments_DF = pd.DataFrame({\"Compound\": compound_list5,\n",
    "                            \"Positive\": positive_list5,\n",
    "                            \"Neutral\": neutral_list5,\n",
    "                            \"Negative\": negative_list5,\n",
    "                            \"Tweets\": tweet_list5,\n",
    "                            \"Date of Tweet\": dates_list5})\n",
    "\n",
    "print(\"NYT DataFrame\")\n",
    "nyt = nytSentiments_DF\n",
    "nyt"
   ]
  },
  {
   "cell_type": "code",
   "execution_count": 161,
   "metadata": {},
   "outputs": [
    {
     "data": {
      "text/html": [
       "<div>\n",
       "<style>\n",
       "    .dataframe thead tr:only-child th {\n",
       "        text-align: right;\n",
       "    }\n",
       "\n",
       "    .dataframe thead th {\n",
       "        text-align: left;\n",
       "    }\n",
       "\n",
       "    .dataframe tbody tr th {\n",
       "        vertical-align: top;\n",
       "    }\n",
       "</style>\n",
       "<table border=\"1\" class=\"dataframe\">\n",
       "  <thead>\n",
       "    <tr style=\"text-align: right;\">\n",
       "      <th></th>\n",
       "      <th>Compound</th>\n",
       "      <th>Date of Tweet</th>\n",
       "      <th>Negative</th>\n",
       "      <th>Neutral</th>\n",
       "      <th>Positive</th>\n",
       "      <th>Tweets</th>\n",
       "    </tr>\n",
       "  </thead>\n",
       "  <tbody>\n",
       "    <tr>\n",
       "      <th>BBC</th>\n",
       "      <td>-0.6486</td>\n",
       "      <td>Wed Mar 21 18:46:52 +0000 2018</td>\n",
       "      <td>0.261</td>\n",
       "      <td>0.739</td>\n",
       "      <td>0.000</td>\n",
       "      <td>140</td>\n",
       "    </tr>\n",
       "    <tr>\n",
       "      <th>CBS</th>\n",
       "      <td>0.7351</td>\n",
       "      <td>Wed Mar 21 23:23:11 +0000 2018</td>\n",
       "      <td>0.000</td>\n",
       "      <td>0.780</td>\n",
       "      <td>0.220</td>\n",
       "      <td>140</td>\n",
       "    </tr>\n",
       "    <tr>\n",
       "      <th>CNN</th>\n",
       "      <td>0.0000</td>\n",
       "      <td>Thu Mar 22 00:43:32 +0000 2018</td>\n",
       "      <td>0.000</td>\n",
       "      <td>1.000</td>\n",
       "      <td>0.000</td>\n",
       "      <td>89</td>\n",
       "    </tr>\n",
       "    <tr>\n",
       "      <th>Fox</th>\n",
       "      <td>-0.4767</td>\n",
       "      <td>Thu Mar 22 00:50:20 +0000 2018</td>\n",
       "      <td>0.256</td>\n",
       "      <td>0.744</td>\n",
       "      <td>0.000</td>\n",
       "      <td>90</td>\n",
       "    </tr>\n",
       "    <tr>\n",
       "      <th>NYT</th>\n",
       "      <td>0.3182</td>\n",
       "      <td>Wed Mar 21 22:17:01 +0000 2018</td>\n",
       "      <td>0.140</td>\n",
       "      <td>0.643</td>\n",
       "      <td>0.216</td>\n",
       "      <td>112</td>\n",
       "    </tr>\n",
       "  </tbody>\n",
       "</table>\n",
       "</div>"
      ],
      "text/plain": [
       "     Compound                   Date of Tweet  Negative  Neutral  Positive  \\\n",
       "BBC   -0.6486  Wed Mar 21 18:46:52 +0000 2018     0.261    0.739     0.000   \n",
       "CBS    0.7351  Wed Mar 21 23:23:11 +0000 2018     0.000    0.780     0.220   \n",
       "CNN    0.0000  Thu Mar 22 00:43:32 +0000 2018     0.000    1.000     0.000   \n",
       "Fox   -0.4767  Thu Mar 22 00:50:20 +0000 2018     0.256    0.744     0.000   \n",
       "NYT    0.3182  Wed Mar 21 22:17:01 +0000 2018     0.140    0.643     0.216   \n",
       "\n",
       "     Tweets  \n",
       "BBC     140  \n",
       "CBS     140  \n",
       "CNN      89  \n",
       "Fox      90  \n",
       "NYT     112  "
      ]
     },
     "execution_count": 161,
     "metadata": {},
     "output_type": "execute_result"
    }
   ],
   "source": [
    "#Merging all DataFrames for Plotting:\n",
    "#Trying Concatenating Objects\n",
    "\n",
    "# merge_DF = []\n",
    "# merge_DF = pd.merge(bbcSentiments_DF, \n",
    "#                     cbsSentiments_DF, \n",
    "#                     how=\"outer\", \n",
    "#                     sort=True)\n",
    "\n",
    "# merge_DF = pd.merge(merge_DF,\n",
    "#                     cnnSentiments_DF,\n",
    "#                     how = \"outer\",\n",
    "#                     sort=True)\n",
    "\n",
    "# merge_DF = pd.merge(merge_DF,\n",
    "#                     foxSentiments_DF,\n",
    "#                     how = \"outer\",\n",
    "#                     sort=True)\n",
    "\n",
    "# merge_DF = pd.merge(merge_DF,\n",
    "#                     foxSentiments_DF,\n",
    "#                     how = \"outer\",\n",
    "#                     sort=True)\n",
    "\n",
    "# merge_DF = pd.merge(merge_DF,\n",
    "#                     nytSentiments_DF,\n",
    "#                     how = \"outer\",\n",
    "#                     sort=True)\n",
    "merge_DF = [bbc, cbs, cnn, fox, nyt]\n",
    "\n",
    "merge_results = pd.concat(merge_DF)\n",
    "merge_results.index = [\"BBC\", \"CBS\", \"CNN\", \"Fox\", \"NYT\"]\n",
    "merge_results"
   ]
  },
  {
   "cell_type": "markdown",
   "metadata": {},
   "source": [
    "# Scatter Plot Sentiment"
   ]
  },
  {
   "cell_type": "code",
   "execution_count": 135,
   "metadata": {},
   "outputs": [
    {
     "data": {
      "text/plain": [
       "1"
      ]
     },
     "execution_count": 135,
     "metadata": {},
     "output_type": "execute_result"
    }
   ],
   "source": [
    "s = len(pd.Series(merge_results[\"Tweets\"][0]))\n",
    "pd.to_numeric(s, errors=\"coerce\")\n",
    "s"
   ]
  },
  {
   "cell_type": "code",
   "execution_count": 143,
   "metadata": {},
   "outputs": [
    {
     "data": {
      "image/png": "[encoded data removed]",
      "text/plain": [
       "<matplotlib.figure.Figure at 0x1e707ea9198>"
      ]
     },
     "metadata": {},
     "output_type": "display_data"
    }
   ],
   "source": [
    "#First plot will:\n",
    "    #be a scatter plot of sentiments of last 100 tweets\n",
    "    #Ranging from -1.0 to 1.0\n",
    "    #Scores of 0 is neutral sentiment\n",
    "    # -1 most negative sentiment\n",
    "    # +1 most positive sentiment\n",
    "    #Each plot point will reflect the compound sentiment of a tweet\n",
    "    #Sort each plot by a relative timestamp\n",
    "\n",
    "#Build a scatter plot\n",
    "\n",
    "#Label Heading\n",
    "plt.title(\"Analysis of Sentiments of News Tweets\")\n",
    "\n",
    "#Axes labels and limits\n",
    "plt.ylabel(\"Sentiment Score\")\n",
    "plt.ylim(-1, 1)\n",
    "plt.xlabel(\"Tweets Over Time\")\n",
    "plt.xlim(0, 200)\n",
    "# x_axis = np.arange(0, s, 1)\n",
    "#Assemble Scatter Plot\n",
    "plt.scatter(merge_results[\"Tweets\"], \n",
    "            merge_results[\"Compound\"],\n",
    "            marker = \"o\",\n",
    "            facecolors=\"red\",\n",
    "            edgecolors=\"black\",\n",
    "            alpha=0.75)\n",
    "\n",
    "#Show axis grids\n",
    "plt.grid(True)\n",
    "#Show legend\n",
    "plt.legend({\"BBC\",\n",
    "            \"CBS\",\n",
    "            \"CNN\",\n",
    "            \"Fox\",\n",
    "            \"NYT\"})\n",
    "#Save Plot\n",
    "plt.savefig(\"SentimentAnalysis.png\")\n",
    "plt.show()"
   ]
  },
  {
   "cell_type": "markdown",
   "metadata": {},
   "source": [
    "# Bar Graph of Overall Sentiments"
   ]
  },
  {
   "cell_type": "code",
   "execution_count": null,
   "metadata": {
    "collapsed": true
   },
   "outputs": [],
   "source": [
    "#Second plot will:\n",
    "    #be a bar plot visualizing OVERALL sentiments of last 100 tweets per org.\n",
    "    # Aggregate using VADER\n"
   ]
  },
  {
   "cell_type": "code",
   "execution_count": 144,
   "metadata": {
    "collapsed": true
   },
   "outputs": [],
   "source": [
    "#Set value for x-axis and tick_locations\n",
    "x_axis = np.arange(len(merge_results[\"Tweets\"]))\n",
    "tick_locations = [value + 0.4 for value in x_axis]\n"
   ]
  },
  {
   "cell_type": "code",
   "execution_count": 148,
   "metadata": {},
   "outputs": [
    {
     "data": {
      "text/plain": [
       "([<matplotlib.axis.XTick at 0x1e708d9eb70>,\n",
       "  <matplotlib.axis.XTick at 0x1e708dda278>,\n",
       "  <matplotlib.axis.XTick at 0x1e708d88f60>,\n",
       "  <matplotlib.axis.XTick at 0x1e708e4f898>,\n",
       "  <matplotlib.axis.XTick at 0x1e708e4fef0>],\n",
       " <a list of 5 Text xticklabel objects>)"
      ]
     },
     "execution_count": 148,
     "metadata": {},
     "output_type": "execute_result"
    }
   ],
   "source": [
    "#List where to write x labels and adjust figure size to fit\n",
    "plt.figure(figsize=(20,3))\n",
    "plt.bar(x_axis, merge_results[\"Compound\"])\n",
    "plt.xticks(tick_locations, merge_results[\"Compound\"], rotation=\"vertical\")"
   ]
  },
  {
   "cell_type": "code",
   "execution_count": 149,
   "metadata": {},
   "outputs": [
    {
     "data": {
      "text/plain": [
       "(-1, 1)"
      ]
     },
     "execution_count": 149,
     "metadata": {},
     "output_type": "execute_result"
    }
   ],
   "source": [
    "#Set X and Y Limits:\n",
    "plt.xlim(0, 100)\n",
    "plt.ylim(-1, 1)"
   ]
  },
  {
   "cell_type": "code",
   "execution_count": 150,
   "metadata": {},
   "outputs": [
    {
     "data": {
      "text/plain": [
       "Text(0,0.5,'Sentiment Score')"
      ]
     },
     "execution_count": 150,
     "metadata": {},
     "output_type": "execute_result"
    }
   ],
   "source": [
    "#Set Title and Labels\n",
    "plt.title(\"Twitter Sentiment Analysis\")\n",
    "plt.xlabel(\"Networks\")\n",
    "plt.ylabel(\"Sentiment Score\")"
   ]
  },
  {
   "cell_type": "code",
   "execution_count": 151,
   "metadata": {},
   "outputs": [
    {
     "data": {
      "image/png": "[encoded data removed]",
      "text/plain": [
       "<matplotlib.figure.Figure at 0x1e708de9c88>"
      ]
     },
     "metadata": {},
     "output_type": "display_data"
    },
    {
     "data": {
      "image/png": "[encoded data removed]",
      "text/plain": [
       "<matplotlib.figure.Figure at 0x1e708ee0470>"
      ]
     },
     "metadata": {},
     "output_type": "display_data"
    }
   ],
   "source": [
    "#Save our graph and show\n",
    "plt.savefig(\"Sentiment_Bar_Scores.png\")\n",
    "plt.show()"
   ]
  },
  {
   "cell_type": "code",
   "execution_count": null,
   "metadata": {
    "collapsed": true
   },
   "outputs": [],
   "source": []
  }
 ],
 "metadata": {
  "kernelspec": {
   "display_name": "Python 3",
   "language": "python",
   "name": "python3"
  },
  "language_info": {
   "codemirror_mode": {
    "name": "ipython",
    "version": 3
   },
   "file_extension": ".py",
   "mimetype": "text/x-python",
   "name": "python",
   "nbconvert_exporter": "python",
   "pygments_lexer": "ipython3",
   "version": "3.6.3"
  }
 },
 "nbformat": 4,
 "nbformat_minor": 2
}
